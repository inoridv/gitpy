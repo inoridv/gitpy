{
 "cells": [
  {
   "cell_type": "code",
   "execution_count": null,
   "metadata": {},
   "outputs": [],
   "source": [
    "# Import useful libraries.\n",
    "# Please note that GitPython is a requi\n",
    "from git import Repo, Git\n",
    "import os\n",
    "\n",
    "# rorepo is a Repo instance pointing to the git-python repository.\n",
    "# For all you know, the first argument to Repo is a path to the repository\n",
    "# you want to work with\n",
    "git_ssh_identity_file = os.path.expanduser('~/.ssh/id_rsa')\n",
    "git_ssh_cmd = 'ssh-add ~/.ssh/id_rsa'\n",
    "\n",
    "with Git().custom_environment(GIT_SSH_COMMAND=git_ssh_cmd):\n",
    "    repo = Repo(os.getcwd())\n",
    "    assert not repo.bare\n",
    "\n",
    "    repo.remotes.origin.pull()\n",
    "\n",
    "    repo.git.checkout(\"master\")\n",
    "\n",
    "    repo.git.add(\"gitpy.ipynb\")\n",
    "    repo.git.commit(m=\"test commit\")\n",
    "    repo.remotes.origin.push()"
   ]
  },
  {
   "cell_type": "code",
   "execution_count": null,
   "metadata": {},
   "outputs": [],
   "source": []
  }
 ],
 "metadata": {
  "kernelspec": {
   "display_name": "Python 3",
   "language": "python",
   "name": "python3"
  },
  "language_info": {
   "codemirror_mode": {
    "name": "ipython",
    "version": 3
   },
   "file_extension": ".py",
   "mimetype": "text/x-python",
   "name": "python",
   "nbconvert_exporter": "python",
   "pygments_lexer": "ipython3",
   "version": "3.6.3"
  }
 },
 "nbformat": 4,
 "nbformat_minor": 2
}
