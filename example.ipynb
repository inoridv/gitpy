{
 "cells": [
  {
   "cell_type": "code",
   "execution_count": 22,
   "metadata": {},
   "outputs": [],
   "source": [
    "# Import useful libraries.\n",
    "# Please note that GitPython is a requirement for this code to work.\n",
    "# Check it out at https://gitpython.readthedocs.io/en/stable/\n",
    "from git import Repo, Git\n",
    "import os\n",
    "\n",
    "######### Configuration #########\n",
    "\n",
    "# Repository Root.\n",
    "repo_root = os.getcwd()\n",
    "\n",
    "# Repository branch to interact with.\n",
    "repo_branch = \"master\"\n",
    "\n",
    "# Files you wish to push to the repository.\n",
    "target_files = ['example.ipynb', 'example.conf']\n",
    "\n",
    "# Your commit's message.\n",
    "commit_message = \"Hacked the code!\"\n",
    "\n",
    "#################################\n",
    "\n",
    "# Add your default ssh key to the ssh-agent for identification.\n",
    "# Please edit the path used in git_ssh_identity_file if you did not\n",
    "# use the default one.\n",
    "git_ssh_identity_file = os.path.expanduser('~/.ssh/id_rsa')\n",
    "git_ssh_cmd = 'ssh-add %s' git_ssh_identity_file\n",
    "\n",
    "with Git().custom_environment(GIT_SSH_COMMAND=git_ssh_cmd):\n",
    "    # Initialize the repo contained in the specified directory.\n",
    "    repo = Repo(repo_root)\n",
    "    assert not repo.bare\n",
    "\n",
    "    # Updates the current repository.\n",
    "    repo.remotes.origin.pull()\n",
    "\n",
    "    # Checks out to the specified branch.\n",
    "    repo.git.checkout(repo_branch)\n",
    "\n",
    "    # Add the desired files to the staging environment.\n",
    "    for file in target_files:\n",
    "        repo.git.add(file)\n",
    "    \n",
    "    # Commits the changes.\n",
    "    repo.git.commit(m=commit_message)\n",
    "    \n",
    "    # Push everything to the repository.\n",
    "    repo.remotes.origin.push()"
   ]
  },
  {
   "cell_type": "code",
   "execution_count": null,
   "metadata": {},
   "outputs": [],
   "source": []
  }
 ],
 "metadata": {
  "kernelspec": {
   "display_name": "Python 3",
   "language": "python",
   "name": "python3"
  },
  "language_info": {
   "codemirror_mode": {
    "name": "ipython",
    "version": 3
   },
   "file_extension": ".py",
   "mimetype": "text/x-python",
   "name": "python",
   "nbconvert_exporter": "python",
   "pygments_lexer": "ipython3",
   "version": "3.6.3"
  }
 },
 "nbformat": 4,
 "nbformat_minor": 2
}
